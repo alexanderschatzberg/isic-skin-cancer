{
 "cells": [
  {
   "cell_type": "code",
   "execution_count": 1,
   "id": "af01b7c5",
   "metadata": {
    "execution": {
     "iopub.execute_input": "2024-07-27T09:31:39.063944Z",
     "iopub.status.busy": "2024-07-27T09:31:39.063451Z",
     "iopub.status.idle": "2024-07-27T09:31:40.129885Z",
     "shell.execute_reply": "2024-07-27T09:31:40.128511Z"
    },
    "papermill": {
     "duration": 1.074221,
     "end_time": "2024-07-27T09:31:40.132948",
     "exception": false,
     "start_time": "2024-07-27T09:31:39.058727",
     "status": "completed"
    },
    "tags": []
   },
   "outputs": [],
   "source": [
    "import pandas as pd"
   ]
  },
  {
   "cell_type": "code",
   "execution_count": 2,
   "id": "a0b52f33",
   "metadata": {
    "execution": {
     "iopub.execute_input": "2024-07-27T09:31:40.140257Z",
     "iopub.status.busy": "2024-07-27T09:31:40.138962Z",
     "iopub.status.idle": "2024-07-27T09:31:40.164944Z",
     "shell.execute_reply": "2024-07-27T09:31:40.163827Z"
    },
    "papermill": {
     "duration": 0.032465,
     "end_time": "2024-07-27T09:31:40.167941",
     "exception": false,
     "start_time": "2024-07-27T09:31:40.135476",
     "status": "completed"
    },
    "tags": []
   },
   "outputs": [],
   "source": [
    "# PATH = \"../kaggle/data/\"\n",
    "PATH = \"/kaggle/input/isic-2024-challenge/\"\n",
    "\n",
    "test_df = pd.read_csv(PATH + \"test-metadata.csv\")\n",
    "df_sub = pd.DataFrame({\"isic_id\": test_df[\"isic_id\"], \"target\": 1})"
   ]
  }
 ],
 "metadata": {
  "kaggle": {
   "accelerator": "none",
   "dataSources": [
    {
     "databundleVersionId": 9094797,
     "sourceId": 63056,
     "sourceType": "competition"
    }
   ],
   "dockerImageVersionId": 30746,
   "isGpuEnabled": false,
   "isInternetEnabled": false,
   "language": "python",
   "sourceType": "notebook"
  },
  "kernelspec": {
   "display_name": "Python 3",
   "language": "python",
   "name": "python3"
  },
  "language_info": {
   "codemirror_mode": {
    "name": "ipython",
    "version": 3
   },
   "file_extension": ".py",
   "mimetype": "text/x-python",
   "name": "python",
   "nbconvert_exporter": "python",
   "pygments_lexer": "ipython3",
   "version": "3.10.13"
  },
  "papermill": {
   "default_parameters": {},
   "duration": 5.465467,
   "end_time": "2024-07-27T09:31:40.691938",
   "environment_variables": {},
   "exception": null,
   "input_path": "__notebook__.ipynb",
   "output_path": "__notebook__.ipynb",
   "parameters": {},
   "start_time": "2024-07-27T09:31:35.226471",
   "version": "2.5.0"
  }
 },
 "nbformat": 4,
 "nbformat_minor": 5
}
