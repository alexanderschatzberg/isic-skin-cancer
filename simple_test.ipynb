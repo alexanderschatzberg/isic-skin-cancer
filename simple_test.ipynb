{
 "cells": [
  {
   "cell_type": "code",
   "execution_count": 1,
   "id": "6c6b4cef",
   "metadata": {
    "execution": {
     "iopub.execute_input": "2024-07-27T09:32:34.795856Z",
     "iopub.status.busy": "2024-07-27T09:32:34.794328Z",
     "iopub.status.idle": "2024-07-27T09:32:35.891835Z",
     "shell.execute_reply": "2024-07-27T09:32:35.890674Z"
    },
    "papermill": {
     "duration": 1.105554,
     "end_time": "2024-07-27T09:32:35.894878",
     "exception": false,
     "start_time": "2024-07-27T09:32:34.789324",
     "status": "completed"
    },
    "tags": []
   },
   "outputs": [],
   "source": [
    "import pandas as pd"
   ]
  },
  {
   "cell_type": "code",
   "execution_count": 2,
   "id": "25e72c68",
   "metadata": {
    "execution": {
     "iopub.execute_input": "2024-07-27T09:32:35.902085Z",
     "iopub.status.busy": "2024-07-27T09:32:35.901477Z",
     "iopub.status.idle": "2024-07-27T09:32:35.934802Z",
     "shell.execute_reply": "2024-07-27T09:32:35.933559Z"
    },
    "papermill": {
     "duration": 0.040018,
     "end_time": "2024-07-27T09:32:35.937650",
     "exception": false,
     "start_time": "2024-07-27T09:32:35.897632",
     "status": "completed"
    },
    "tags": []
   },
   "outputs": [],
   "source": [
    "# PATH = \"../kaggle/data/\"\n",
    "PATH = \"/kaggle/input/isic-2024-challenge/\"\n",
    "\n",
    "test_df = pd.read_csv(PATH + \"test-metadata.csv\")\n",
    "df_sub = pd.DataFrame({\"isic_id\": test_df[\"isic_id\"], \"target\": 1})\n",
    "df_sub.to_csv(\"submission.csv\", index=False)\n"
   ]
  },
  {
   "cell_type": "code",
   "execution_count": 3,
   "id": "aacf6273",
   "metadata": {
    "execution": {
     "iopub.execute_input": "2024-07-27T09:32:35.944055Z",
     "iopub.status.busy": "2024-07-27T09:32:35.943660Z",
     "iopub.status.idle": "2024-07-27T09:32:35.960092Z",
     "shell.execute_reply": "2024-07-27T09:32:35.958909Z"
    },
    "papermill": {
     "duration": 0.023061,
     "end_time": "2024-07-27T09:32:35.963098",
     "exception": false,
     "start_time": "2024-07-27T09:32:35.940037",
     "status": "completed"
    },
    "tags": []
   },
   "outputs": [
    {
     "data": {
      "text/html": [
       "<div>\n",
       "<style scoped>\n",
       "    .dataframe tbody tr th:only-of-type {\n",
       "        vertical-align: middle;\n",
       "    }\n",
       "\n",
       "    .dataframe tbody tr th {\n",
       "        vertical-align: top;\n",
       "    }\n",
       "\n",
       "    .dataframe thead th {\n",
       "        text-align: right;\n",
       "    }\n",
       "</style>\n",
       "<table border=\"1\" class=\"dataframe\">\n",
       "  <thead>\n",
       "    <tr style=\"text-align: right;\">\n",
       "      <th></th>\n",
       "      <th>isic_id</th>\n",
       "      <th>target</th>\n",
       "    </tr>\n",
       "  </thead>\n",
       "  <tbody>\n",
       "    <tr>\n",
       "      <th>0</th>\n",
       "      <td>ISIC_0015657</td>\n",
       "      <td>1</td>\n",
       "    </tr>\n",
       "    <tr>\n",
       "      <th>1</th>\n",
       "      <td>ISIC_0015729</td>\n",
       "      <td>1</td>\n",
       "    </tr>\n",
       "    <tr>\n",
       "      <th>2</th>\n",
       "      <td>ISIC_0015740</td>\n",
       "      <td>1</td>\n",
       "    </tr>\n",
       "  </tbody>\n",
       "</table>\n",
       "</div>"
      ],
      "text/plain": [
       "        isic_id  target\n",
       "0  ISIC_0015657       1\n",
       "1  ISIC_0015729       1\n",
       "2  ISIC_0015740       1"
      ]
     },
     "execution_count": 3,
     "metadata": {},
     "output_type": "execute_result"
    }
   ],
   "source": [
    "df_sub"
   ]
  }
 ],
 "metadata": {
  "kaggle": {
   "accelerator": "none",
   "dataSources": [
    {
     "databundleVersionId": 9094797,
     "sourceId": 63056,
     "sourceType": "competition"
    }
   ],
   "dockerImageVersionId": 30746,
   "isGpuEnabled": false,
   "isInternetEnabled": false,
   "language": "python",
   "sourceType": "notebook"
  },
  "kernelspec": {
   "display_name": "Python 3",
   "language": "python",
   "name": "python3"
  },
  "language_info": {
   "codemirror_mode": {
    "name": "ipython",
    "version": 3
   },
   "file_extension": ".py",
   "mimetype": "text/x-python",
   "name": "python",
   "nbconvert_exporter": "python",
   "pygments_lexer": "ipython3",
   "version": "3.10.13"
  },
  "papermill": {
   "default_parameters": {},
   "duration": 4.942867,
   "end_time": "2024-07-27T09:32:36.486787",
   "environment_variables": {},
   "exception": null,
   "input_path": "__notebook__.ipynb",
   "output_path": "__notebook__.ipynb",
   "parameters": {},
   "start_time": "2024-07-27T09:32:31.543920",
   "version": "2.5.0"
  }
 },
 "nbformat": 4,
 "nbformat_minor": 5
}
