{
 "cells": [
  {
   "cell_type": "code",
   "execution_count": 1,
   "metadata": {},
   "outputs": [],
   "source": [
    "import pandas as pd"
   ]
  },
  {
   "cell_type": "code",
   "execution_count": null,
   "metadata": {},
   "outputs": [],
   "source": [
    "PATH = \"../kaggle/data/\"\n",
    "# PATH = \"/kaggle/input/isic-2024-challenge/\"\n",
    "\n",
    "test_df = pd.read_csv(PATH + \"test-metadata.csv\")\n",
    "df_sub = pd.DataFrame({\"isic_id\": test_df[\"isic_id\"], \"target\": 1})"
   ]
  }
 ],
 "metadata": {
  "kernelspec": {
   "display_name": "tf-v2",
   "language": "python",
   "name": "python3"
  },
  "language_info": {
   "codemirror_mode": {
    "name": "ipython",
    "version": 3
   },
   "file_extension": ".py",
   "mimetype": "text/x-python",
   "name": "python",
   "nbconvert_exporter": "python",
   "pygments_lexer": "ipython3",
   "version": "3.8.19"
  }
 },
 "nbformat": 4,
 "nbformat_minor": 2
}
