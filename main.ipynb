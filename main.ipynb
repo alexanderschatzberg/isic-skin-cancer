{
 "cells": [
  {
   "cell_type": "code",
   "execution_count": 20,
   "metadata": {},
   "outputs": [],
   "source": [
    "import pandas as pd\n",
    "import numpy as np\n",
    "from tensorflow import keras\n",
    "from keras import layers\n",
    "import matplotlib.pyplot as plt "
   ]
  },
  {
   "cell_type": "code",
   "execution_count": 21,
   "metadata": {},
   "outputs": [],
   "source": [
    "PATH = \"./data/\""
   ]
  },
  {
   "cell_type": "code",
   "execution_count": 22,
   "metadata": {},
   "outputs": [
    {
     "name": "stderr",
     "output_type": "stream",
     "text": [
      "/tmp/ipykernel_1850/1877868789.py:1: DtypeWarning: Columns (51,52) have mixed types. Specify dtype option on import or set low_memory=False.\n",
      "  df_0 = pd.read_csv(PATH + \"train-metadata.csv\")\n"
     ]
    }
   ],
   "source": [
    "df_0 = pd.read_csv(PATH + \"train-metadata.csv\")"
   ]
  },
  {
   "cell_type": "code",
   "execution_count": 23,
   "metadata": {},
   "outputs": [],
   "source": [
    "# Clean and preprocess data for training and testing \n",
    "\n",
    "cols_to_drop = [\"isic_id\", \"patient_id\", \"mel_thick_mm\", \"iddx_full\", \"iddx_1\", \"iddx_2\", \"iddx_3\", \"iddx_4\", \"iddx_5\", \"attribution\", \"copyright_license\", \"tbp_lv_location\", \"tbp_lv_location_simple\", \"tbp_lv_dnn_lesion_confidence\", \"anatom_site_general\", \"image_type\", \"tbp_tile_type\"]\n",
    "df_0.drop(columns=cols_to_drop, inplace=True)\n",
    "df_0[\"sex\"] = df_0[\"sex\"].replace({\"male\": 1, \"female\": 0})\n",
    "\n",
    "# replace all NaNs with np.nan\n",
    "df_0.replace(\"\", np.nan, inplace=True)\n",
    "\n",
    "# Drop any column with a string vallue \n",
    "for col in df_0.columns:\n",
    "    if df_0[col].dtype == \"object\":\n",
    "        df_0.drop(columns=[col], inplace=True)\n",
    "\n",
    "# clean up for training, split into train and test\n",
    "train_frac = 0.8 \n",
    "train_size = int(train_frac * len(df_0))\n",
    "\n",
    "train = df_0[:train_size]\n",
    "x_train = df_0.drop(columns=[\"target\"])\n",
    "y_train = df_0[\"target\"]\n",
    "\n",
    "test = df_0[train_size:]\n",
    "x_test = df_0.drop(columns=[\"target\"])\n",
    "y_test = df_0[\"target\"]"
   ]
  },
  {
   "cell_type": "code",
   "execution_count": 24,
   "metadata": {},
   "outputs": [],
   "source": [
    "# Define the NN \n",
    "\n",
    "inputs = keras.Input(shape=(len(x_train.keys()),)) # One input for each feature in the dataset \n",
    "\n",
    "# Add two hidden layers with 64 units each and ReLU activation\n",
    "x = layers.Dense(64, activation=\"relu\")(inputs)\n",
    "x = layers.Dense(64, activation=\"relu\")(x)\n",
    "\n",
    "# Define the output layer with a single unit (suitable for regression tasks)\n",
    "outputs = layers.Dense(1)(x)\n",
    "\n",
    "model = keras.Model(inputs=inputs, outputs=outputs, name=\"isic-v0\")"
   ]
  },
  {
   "cell_type": "code",
   "execution_count": 25,
   "metadata": {},
   "outputs": [
    {
     "name": "stdout",
     "output_type": "stream",
     "text": [
      "Epoch 1/10\n",
      "5014/5014 [==============================] - 7s 1ms/step - loss: 0.0261 - binary_accuracy: 0.9989 - val_loss: 0.0067 - val_binary_accuracy: 0.9992\n",
      "Epoch 2/10\n",
      "5014/5014 [==============================] - 6s 1ms/step - loss: 0.0084 - binary_accuracy: 0.9990 - val_loss: 0.0066 - val_binary_accuracy: 0.9992\n",
      "Epoch 3/10\n",
      "5014/5014 [==============================] - 6s 1ms/step - loss: 0.0084 - binary_accuracy: 0.9990 - val_loss: 0.0066 - val_binary_accuracy: 0.9992\n",
      "Epoch 4/10\n",
      "5014/5014 [==============================] - 6s 1ms/step - loss: 0.0083 - binary_accuracy: 0.9990 - val_loss: 0.0067 - val_binary_accuracy: 0.9992\n",
      "Epoch 5/10\n",
      "5014/5014 [==============================] - 6s 1ms/step - loss: 0.0083 - binary_accuracy: 0.9990 - val_loss: 0.0068 - val_binary_accuracy: 0.9992\n",
      "Epoch 6/10\n",
      "5014/5014 [==============================] - 6s 1ms/step - loss: 0.0083 - binary_accuracy: 0.9990 - val_loss: 0.0066 - val_binary_accuracy: 0.9992\n",
      "Epoch 7/10\n",
      "5014/5014 [==============================] - 6s 1ms/step - loss: 0.0084 - binary_accuracy: 0.9990 - val_loss: 0.0069 - val_binary_accuracy: 0.9992\n",
      "Epoch 8/10\n",
      "5014/5014 [==============================] - 6s 1ms/step - loss: 0.0084 - binary_accuracy: 0.9990 - val_loss: 0.0067 - val_binary_accuracy: 0.9992\n",
      "Epoch 9/10\n",
      "5014/5014 [==============================] - 6s 1ms/step - loss: 0.0083 - binary_accuracy: 0.9990 - val_loss: 0.0069 - val_binary_accuracy: 0.9992\n",
      "Epoch 10/10\n",
      "5014/5014 [==============================] - 6s 1ms/step - loss: 0.0084 - binary_accuracy: 0.9990 - val_loss: 0.0067 - val_binary_accuracy: 0.9992\n",
      "12534/12534 - 8s - loss: 0.0080 - binary_accuracy: 0.9990 - 8s/epoch - 667us/step\n",
      "Test loss: 0.008006091229617596\n",
      "Test accuracy: 0.9990200996398926\n"
     ]
    }
   ],
   "source": [
    "model.compile(\n",
    "    loss=keras.losses.BinaryCrossentropy(from_logits=True),\n",
    "    optimizer=keras.optimizers.RMSprop(),\n",
    "    metrics=[keras.metrics.BinaryAccuracy()],\n",
    ")\n",
    "\n",
    "history = model.fit(x_train, y_train, batch_size=64, epochs=10, validation_split=0.2)\n",
    "\n",
    "test_scores = model.evaluate(x_test, y_test, verbose=2)\n",
    "print(\"Test loss:\", test_scores[0])\n",
    "print(\"Test accuracy:\", test_scores[1])"
   ]
  },
  {
   "cell_type": "code",
   "execution_count": 29,
   "metadata": {},
   "outputs": [],
   "source": [
    "test_df = pd.read_csv(PATH + \"test-metadata.csv\")\n",
    "isic_ids = test_df[\"isic_id\"]\n",
    "\n",
    "try: \n",
    "    test_df.drop(columns=cols_to_drop, inplace=True)\n",
    "except KeyError: \n",
    "    pass\n",
    "\n",
    "test_df.replace(\"\", np.nan, inplace=True)\n",
    "test_df[\"sex\"] = test_df[\"sex\"].replace({\"male\": 1, \"female\": 0})\n",
    "\n",
    "# Drop any column with a string vallue \n",
    "for col in test_df.columns:\n",
    "    if test_df[col].dtype == \"object\":\n",
    "        test_df.drop(columns=[col], inplace=True)"
   ]
  },
  {
   "cell_type": "code",
   "execution_count": 34,
   "metadata": {},
   "outputs": [
    {
     "data": {
      "text/plain": [
       "array([-7.7168064, -7.7168064, -7.7168064], dtype=float32)"
      ]
     },
     "execution_count": 34,
     "metadata": {},
     "output_type": "execute_result"
    }
   ],
   "source": [
    "preds[:,0]"
   ]
  },
  {
   "cell_type": "code",
   "execution_count": 35,
   "metadata": {},
   "outputs": [
    {
     "name": "stdout",
     "output_type": "stream",
     "text": [
      "1/1 [==============================] - 0s 16ms/step\n"
     ]
    }
   ],
   "source": [
    "preds = model.predict(test_df)\n",
    "\n",
    "df_sub = pd.DataFrame({\"isic_id\": isic_ids, \"target\": preds[:,0]})\n",
    "df_sub.to_csv(\"submission.csv\", index=False)\n"
   ]
  }
 ],
 "metadata": {
  "kernelspec": {
   "display_name": "Python 3",
   "language": "python",
   "name": "python3"
  },
  "language_info": {
   "codemirror_mode": {
    "name": "ipython",
    "version": 3
   },
   "file_extension": ".py",
   "mimetype": "text/x-python",
   "name": "python",
   "nbconvert_exporter": "python",
   "pygments_lexer": "ipython3",
   "version": "3.8.19"
  }
 },
 "nbformat": 4,
 "nbformat_minor": 2
}
