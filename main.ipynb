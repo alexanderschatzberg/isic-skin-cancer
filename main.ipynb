{
 "cells": [
  {
   "cell_type": "code",
   "execution_count": 1,
   "id": "75602b1c",
   "metadata": {
    "execution": {
     "iopub.execute_input": "2024-07-24T18:20:24.664253Z",
     "iopub.status.busy": "2024-07-24T18:20:24.663717Z",
     "iopub.status.idle": "2024-07-24T18:20:39.523798Z",
     "shell.execute_reply": "2024-07-24T18:20:39.522539Z"
    },
    "papermill": {
     "duration": 14.869596,
     "end_time": "2024-07-24T18:20:39.526824",
     "exception": false,
     "start_time": "2024-07-24T18:20:24.657228",
     "status": "completed"
    },
    "tags": []
   },
   "outputs": [
    {
     "name": "stderr",
     "output_type": "stream",
     "text": [
      "2024-07-24 18:20:27.786296: E external/local_xla/xla/stream_executor/cuda/cuda_dnn.cc:9261] Unable to register cuDNN factory: Attempting to register factory for plugin cuDNN when one has already been registered\n",
      "2024-07-24 18:20:27.786426: E external/local_xla/xla/stream_executor/cuda/cuda_fft.cc:607] Unable to register cuFFT factory: Attempting to register factory for plugin cuFFT when one has already been registered\n",
      "2024-07-24 18:20:27.948598: E external/local_xla/xla/stream_executor/cuda/cuda_blas.cc:1515] Unable to register cuBLAS factory: Attempting to register factory for plugin cuBLAS when one has already been registered\n"
     ]
    }
   ],
   "source": [
    "import pandas as pd\n",
    "import numpy as np\n",
    "from tensorflow import keras\n",
    "from keras import layers\n",
    "import matplotlib.pyplot as plt "
   ]
  },
  {
   "cell_type": "code",
   "execution_count": 2,
   "id": "8b6ad8d6",
   "metadata": {
    "execution": {
     "iopub.execute_input": "2024-07-24T18:20:39.538236Z",
     "iopub.status.busy": "2024-07-24T18:20:39.537473Z",
     "iopub.status.idle": "2024-07-24T18:20:39.543201Z",
     "shell.execute_reply": "2024-07-24T18:20:39.541837Z"
    },
    "papermill": {
     "duration": 0.014307,
     "end_time": "2024-07-24T18:20:39.545961",
     "exception": false,
     "start_time": "2024-07-24T18:20:39.531654",
     "status": "completed"
    },
    "tags": []
   },
   "outputs": [],
   "source": [
    "# PATH = \"../kaggle/data/\"\n",
    "PATH = \"/kaggle/input/isic-2024-challenge/\"\n"
   ]
  },
  {
   "cell_type": "code",
   "execution_count": 3,
   "id": "a380fbb8",
   "metadata": {
    "execution": {
     "iopub.execute_input": "2024-07-24T18:20:39.556707Z",
     "iopub.status.busy": "2024-07-24T18:20:39.556301Z",
     "iopub.status.idle": "2024-07-24T18:20:48.213764Z",
     "shell.execute_reply": "2024-07-24T18:20:48.212710Z"
    },
    "papermill": {
     "duration": 8.666218,
     "end_time": "2024-07-24T18:20:48.216796",
     "exception": false,
     "start_time": "2024-07-24T18:20:39.550578",
     "status": "completed"
    },
    "tags": []
   },
   "outputs": [
    {
     "name": "stderr",
     "output_type": "stream",
     "text": [
      "/tmp/ipykernel_18/1877868789.py:1: DtypeWarning: Columns (51,52) have mixed types. Specify dtype option on import or set low_memory=False.\n",
      "  df_0 = pd.read_csv(PATH + \"train-metadata.csv\")\n"
     ]
    }
   ],
   "source": [
    "df_0 = pd.read_csv(PATH + \"train-metadata.csv\")"
   ]
  },
  {
   "cell_type": "code",
   "execution_count": 4,
   "id": "918ab101",
   "metadata": {
    "execution": {
     "iopub.execute_input": "2024-07-24T18:20:48.227724Z",
     "iopub.status.busy": "2024-07-24T18:20:48.227367Z",
     "iopub.status.idle": "2024-07-24T18:20:48.722754Z",
     "shell.execute_reply": "2024-07-24T18:20:48.721608Z"
    },
    "papermill": {
     "duration": 0.503787,
     "end_time": "2024-07-24T18:20:48.725397",
     "exception": false,
     "start_time": "2024-07-24T18:20:48.221610",
     "status": "completed"
    },
    "tags": []
   },
   "outputs": [
    {
     "name": "stderr",
     "output_type": "stream",
     "text": [
      "/tmp/ipykernel_18/1864818803.py:5: FutureWarning: Downcasting behavior in `replace` is deprecated and will be removed in a future version. To retain the old behavior, explicitly call `result.infer_objects(copy=False)`. To opt-in to the future behavior, set `pd.set_option('future.no_silent_downcasting', True)`\n",
      "  df_0[\"sex\"] = df_0[\"sex\"].replace({\"male\": 1, \"female\": 0})\n"
     ]
    }
   ],
   "source": [
    "# Clean and preprocess data for training and testing \n",
    "\n",
    "cols_to_drop = [\"isic_id\", \"patient_id\", \"mel_thick_mm\", \"iddx_full\", \"iddx_1\", \"iddx_2\", \"iddx_3\", \"iddx_4\", \"iddx_5\", \"attribution\", \"copyright_license\", \"tbp_lv_location\", \"tbp_lv_location_simple\", \"tbp_lv_dnn_lesion_confidence\", \"anatom_site_general\", \"image_type\", \"tbp_tile_type\"]\n",
    "df_0.drop(columns=cols_to_drop, inplace=True)\n",
    "df_0[\"sex\"] = df_0[\"sex\"].replace({\"male\": 1, \"female\": 0})\n",
    "\n",
    "# replace all NaNs with np.nan\n",
    "df_0.replace(\"\", np.nan, inplace=True)\n",
    "\n",
    "# Drop any row with a NaN value\n",
    "df_0.dropna(inplace=True)\n",
    "\n",
    "# Drop any column with a string vallue \n",
    "for col in df_0.columns:\n",
    "    if df_0[col].dtype == \"object\":\n",
    "        df_0.drop(columns=[col], inplace=True)\n",
    "\n",
    "# clean up for training, split into train and test\n",
    "train_frac = 0.8 \n",
    "train_size = int(train_frac * len(df_0))\n",
    "\n",
    "train = df_0[:train_size]\n",
    "x_train = df_0.drop(columns=[\"target\"])\n",
    "y_train = df_0[\"target\"]\n",
    "\n",
    "test = df_0[train_size:]\n",
    "x_test = df_0.drop(columns=[\"target\"])\n",
    "y_test = df_0[\"target\"]"
   ]
  },
  {
   "cell_type": "code",
   "execution_count": 5,
   "id": "9bceb747",
   "metadata": {
    "execution": {
     "iopub.execute_input": "2024-07-24T18:20:48.736852Z",
     "iopub.status.busy": "2024-07-24T18:20:48.736089Z",
     "iopub.status.idle": "2024-07-24T18:20:48.840464Z",
     "shell.execute_reply": "2024-07-24T18:20:48.839548Z"
    },
    "papermill": {
     "duration": 0.112823,
     "end_time": "2024-07-24T18:20:48.843060",
     "exception": false,
     "start_time": "2024-07-24T18:20:48.730237",
     "status": "completed"
    },
    "tags": []
   },
   "outputs": [],
   "source": [
    "# Define the NN \n",
    "inputs = keras.Input(shape=(len(x_train.keys()),)) # One input for each feature in the dataset \n",
    "\n",
    "# Add two hidden layers with 64 units each and ReLU activation\n",
    "x = layers.Dense(64, activation=\"relu\")(inputs)\n",
    "x = layers.Dense(64, activation=\"relu\")(x)\n",
    "\n",
    "# Define the output layer with a single unit and sigmoid activation\n",
    "outputs = layers.Dense(1, activation=\"sigmoid\")(x)\n",
    "\n",
    "model = keras.Model(inputs=inputs, outputs=outputs, name=\"isic-v0\")\n"
   ]
  },
  {
   "cell_type": "code",
   "execution_count": 6,
   "id": "b50ef2c5",
   "metadata": {
    "execution": {
     "iopub.execute_input": "2024-07-24T18:20:48.854526Z",
     "iopub.status.busy": "2024-07-24T18:20:48.853588Z",
     "iopub.status.idle": "2024-07-24T18:20:50.890573Z",
     "shell.execute_reply": "2024-07-24T18:20:50.889485Z"
    },
    "papermill": {
     "duration": 2.045505,
     "end_time": "2024-07-24T18:20:50.893293",
     "exception": false,
     "start_time": "2024-07-24T18:20:48.847788",
     "status": "completed"
    },
    "tags": []
   },
   "outputs": [
    {
     "name": "stdout",
     "output_type": "stream",
     "text": [
      "Epoch 1/10\n"
     ]
    },
    {
     "name": "stderr",
     "output_type": "stream",
     "text": [
      "/opt/conda/lib/python3.10/site-packages/keras/src/backend/tensorflow/nn.py:681: UserWarning: \"`binary_crossentropy` received `from_logits=True`, but the `output` argument was produced by a Sigmoid activation and thus does not represent logits. Was this intended?\n",
      "  output, from_logits = _get_logits(\n"
     ]
    },
    {
     "name": "stdout",
     "output_type": "stream",
     "text": [
      "\u001b[1m1/1\u001b[0m \u001b[32m━━━━━━━━━━━━━━━━━━━━\u001b[0m\u001b[37m\u001b[0m \u001b[1m1s\u001b[0m 1s/step - binary_accuracy: 0.0488 - loss: 102.1868 - val_binary_accuracy: 0.8182 - val_loss: 7.9106\n",
      "Epoch 2/10\n",
      "\u001b[1m1/1\u001b[0m \u001b[32m━━━━━━━━━━━━━━━━━━━━\u001b[0m\u001b[37m\u001b[0m \u001b[1m0s\u001b[0m 48ms/step - binary_accuracy: 0.4390 - loss: 18.6607 - val_binary_accuracy: 1.0000 - val_loss: 1.4744e-06\n",
      "Epoch 3/10\n",
      "\u001b[1m1/1\u001b[0m \u001b[32m━━━━━━━━━━━━━━━━━━━━\u001b[0m\u001b[37m\u001b[0m \u001b[1m0s\u001b[0m 22ms/step - binary_accuracy: 0.8780 - loss: 1.3288"
     ]
    },
    {
     "name": "stderr",
     "output_type": "stream",
     "text": [
      "/opt/conda/lib/python3.10/site-packages/keras/src/backend/tensorflow/nn.py:681: UserWarning: \"`binary_crossentropy` received `from_logits=True`, but the `output` argument was produced by a Sigmoid activation and thus does not represent logits. Was this intended?\n",
      "  output, from_logits = _get_logits(\n"
     ]
    },
    {
     "name": "stdout",
     "output_type": "stream",
     "text": [
      "\u001b[1m1/1\u001b[0m \u001b[32m━━━━━━━━━━━━━━━━━━━━\u001b[0m\u001b[37m\u001b[0m \u001b[1m0s\u001b[0m 48ms/step - binary_accuracy: 0.8780 - loss: 1.3288 - val_binary_accuracy: 1.0000 - val_loss: 6.2170e-12\n",
      "Epoch 4/10\n",
      "\u001b[1m1/1\u001b[0m \u001b[32m━━━━━━━━━━━━━━━━━━━━\u001b[0m\u001b[37m\u001b[0m \u001b[1m0s\u001b[0m 49ms/step - binary_accuracy: 0.9756 - loss: 0.3538 - val_binary_accuracy: 1.0000 - val_loss: 6.2475e-14\n",
      "Epoch 5/10\n",
      "\u001b[1m1/1\u001b[0m \u001b[32m━━━━━━━━━━━━━━━━━━━━\u001b[0m\u001b[37m\u001b[0m \u001b[1m0s\u001b[0m 49ms/step - binary_accuracy: 0.9756 - loss: 0.1731 - val_binary_accuracy: 1.0000 - val_loss: 7.7199e-16\n",
      "Epoch 6/10\n",
      "\u001b[1m1/1\u001b[0m \u001b[32m━━━━━━━━━━━━━━━━━━━━\u001b[0m\u001b[37m\u001b[0m \u001b[1m0s\u001b[0m 49ms/step - binary_accuracy: 0.9756 - loss: 0.0243 - val_binary_accuracy: 1.0000 - val_loss: 4.3574e-17\n",
      "Epoch 7/10\n",
      "\u001b[1m1/1\u001b[0m \u001b[32m━━━━━━━━━━━━━━━━━━━━\u001b[0m\u001b[37m\u001b[0m \u001b[1m0s\u001b[0m 58ms/step - binary_accuracy: 1.0000 - loss: 5.9599e-04 - val_binary_accuracy: 1.0000 - val_loss: 3.8974e-17\n",
      "Epoch 8/10\n",
      "\u001b[1m1/1\u001b[0m \u001b[32m━━━━━━━━━━━━━━━━━━━━\u001b[0m\u001b[37m\u001b[0m \u001b[1m0s\u001b[0m 50ms/step - binary_accuracy: 1.0000 - loss: 5.0822e-04 - val_binary_accuracy: 1.0000 - val_loss: 3.5269e-17\n",
      "Epoch 9/10\n",
      "\u001b[1m1/1\u001b[0m \u001b[32m━━━━━━━━━━━━━━━━━━━━\u001b[0m\u001b[37m\u001b[0m \u001b[1m0s\u001b[0m 50ms/step - binary_accuracy: 1.0000 - loss: 4.4074e-04 - val_binary_accuracy: 1.0000 - val_loss: 3.2201e-17\n",
      "Epoch 10/10\n",
      "\u001b[1m1/1\u001b[0m \u001b[32m━━━━━━━━━━━━━━━━━━━━\u001b[0m\u001b[37m\u001b[0m \u001b[1m0s\u001b[0m 50ms/step - binary_accuracy: 1.0000 - loss: 3.8722e-04 - val_binary_accuracy: 1.0000 - val_loss: 2.9611e-17\n",
      "2/2 - 0s - 12ms/step - binary_accuracy: 1.0000 - loss: 2.7101e-04\n",
      "Test loss: 0.000271010008873418\n",
      "Test accuracy: 1.0\n"
     ]
    }
   ],
   "source": [
    "model.compile(\n",
    "    loss=keras.losses.BinaryCrossentropy(from_logits=True),\n",
    "    optimizer=keras.optimizers.RMSprop(),\n",
    "    metrics=[keras.metrics.BinaryAccuracy()],\n",
    ")\n",
    "\n",
    "history = model.fit(x_train, y_train, batch_size=512, epochs=10, validation_split=0.2)\n",
    "\n",
    "test_scores = model.evaluate(x_test, y_test, verbose=2)\n",
    "print(\"Test loss:\", test_scores[0])\n",
    "print(\"Test accuracy:\", test_scores[1])"
   ]
  },
  {
   "cell_type": "code",
   "execution_count": 7,
   "id": "b5d30d71",
   "metadata": {
    "execution": {
     "iopub.execute_input": "2024-07-24T18:20:50.912167Z",
     "iopub.status.busy": "2024-07-24T18:20:50.911290Z",
     "iopub.status.idle": "2024-07-24T18:20:50.937802Z",
     "shell.execute_reply": "2024-07-24T18:20:50.936626Z"
    },
    "papermill": {
     "duration": 0.039083,
     "end_time": "2024-07-24T18:20:50.940569",
     "exception": false,
     "start_time": "2024-07-24T18:20:50.901486",
     "status": "completed"
    },
    "tags": []
   },
   "outputs": [
    {
     "name": "stderr",
     "output_type": "stream",
     "text": [
      "/tmp/ipykernel_18/554657857.py:10: FutureWarning: Downcasting behavior in `replace` is deprecated and will be removed in a future version. To retain the old behavior, explicitly call `result.infer_objects(copy=False)`. To opt-in to the future behavior, set `pd.set_option('future.no_silent_downcasting', True)`\n",
      "  test_df[\"sex\"] = test_df[\"sex\"].replace({\"male\": 1, \"female\": 0})\n"
     ]
    }
   ],
   "source": [
    "test_df = pd.read_csv(PATH + \"test-metadata.csv\")\n",
    "isic_ids = test_df[\"isic_id\"]\n",
    "\n",
    "try: \n",
    "    test_df.drop(columns=cols_to_drop, inplace=True)\n",
    "except KeyError: \n",
    "    pass\n",
    "\n",
    "test_df.replace(\"\", np.nan, inplace=True)\n",
    "test_df[\"sex\"] = test_df[\"sex\"].replace({\"male\": 1, \"female\": 0})\n",
    "test_df.dropna(inplace=True)\n",
    "\n",
    "# Drop any column with a string vallue \n",
    "for col in test_df.columns:\n",
    "    if test_df[col].dtype == \"object\":\n",
    "        test_df.drop(columns=[col], inplace=True)"
   ]
  },
  {
   "cell_type": "code",
   "execution_count": 8,
   "id": "33b990fd",
   "metadata": {
    "execution": {
     "iopub.execute_input": "2024-07-24T18:20:50.960455Z",
     "iopub.status.busy": "2024-07-24T18:20:50.959532Z",
     "iopub.status.idle": "2024-07-24T18:20:50.965892Z",
     "shell.execute_reply": "2024-07-24T18:20:50.964698Z"
    },
    "papermill": {
     "duration": 0.019475,
     "end_time": "2024-07-24T18:20:50.968300",
     "exception": false,
     "start_time": "2024-07-24T18:20:50.948825",
     "status": "completed"
    },
    "tags": []
   },
   "outputs": [
    {
     "name": "stdout",
     "output_type": "stream",
     "text": [
      "35 35\n"
     ]
    }
   ],
   "source": [
    "print(len(test_df.keys()), len(x_train.keys()))"
   ]
  },
  {
   "cell_type": "code",
   "execution_count": 9,
   "id": "f93571a7",
   "metadata": {
    "execution": {
     "iopub.execute_input": "2024-07-24T18:20:50.986172Z",
     "iopub.status.busy": "2024-07-24T18:20:50.985770Z",
     "iopub.status.idle": "2024-07-24T18:20:51.102268Z",
     "shell.execute_reply": "2024-07-24T18:20:51.101215Z"
    },
    "papermill": {
     "duration": 0.128368,
     "end_time": "2024-07-24T18:20:51.104825",
     "exception": false,
     "start_time": "2024-07-24T18:20:50.976457",
     "status": "completed"
    },
    "tags": []
   },
   "outputs": [
    {
     "name": "stdout",
     "output_type": "stream",
     "text": [
      "\u001b[1m1/1\u001b[0m \u001b[32m━━━━━━━━━━━━━━━━━━━━\u001b[0m\u001b[37m\u001b[0m \u001b[1m0s\u001b[0m 55ms/step\n"
     ]
    }
   ],
   "source": [
    "preds = model.predict(test_df)\n",
    "\n",
    "df_sub = pd.DataFrame({\"isic_id\": isic_ids, \"target\": preds[:,0]})\n",
    "df_sub.to_csv(\"submission.csv\", index=False)\n"
   ]
  },
  {
   "cell_type": "code",
   "execution_count": 10,
   "id": "ec42742a",
   "metadata": {
    "execution": {
     "iopub.execute_input": "2024-07-24T18:20:51.125214Z",
     "iopub.status.busy": "2024-07-24T18:20:51.124150Z",
     "iopub.status.idle": "2024-07-24T18:20:51.139733Z",
     "shell.execute_reply": "2024-07-24T18:20:51.138658Z"
    },
    "papermill": {
     "duration": 0.028254,
     "end_time": "2024-07-24T18:20:51.142235",
     "exception": false,
     "start_time": "2024-07-24T18:20:51.113981",
     "status": "completed"
    },
    "tags": []
   },
   "outputs": [
    {
     "data": {
      "text/html": [
       "<div>\n",
       "<style scoped>\n",
       "    .dataframe tbody tr th:only-of-type {\n",
       "        vertical-align: middle;\n",
       "    }\n",
       "\n",
       "    .dataframe tbody tr th {\n",
       "        vertical-align: top;\n",
       "    }\n",
       "\n",
       "    .dataframe thead th {\n",
       "        text-align: right;\n",
       "    }\n",
       "</style>\n",
       "<table border=\"1\" class=\"dataframe\">\n",
       "  <thead>\n",
       "    <tr style=\"text-align: right;\">\n",
       "      <th></th>\n",
       "      <th>isic_id</th>\n",
       "      <th>target</th>\n",
       "    </tr>\n",
       "  </thead>\n",
       "  <tbody>\n",
       "    <tr>\n",
       "      <th>0</th>\n",
       "      <td>ISIC_0015657</td>\n",
       "      <td>1.0</td>\n",
       "    </tr>\n",
       "    <tr>\n",
       "      <th>1</th>\n",
       "      <td>ISIC_0015729</td>\n",
       "      <td>1.0</td>\n",
       "    </tr>\n",
       "    <tr>\n",
       "      <th>2</th>\n",
       "      <td>ISIC_0015740</td>\n",
       "      <td>1.0</td>\n",
       "    </tr>\n",
       "  </tbody>\n",
       "</table>\n",
       "</div>"
      ],
      "text/plain": [
       "        isic_id  target\n",
       "0  ISIC_0015657     1.0\n",
       "1  ISIC_0015729     1.0\n",
       "2  ISIC_0015740     1.0"
      ]
     },
     "execution_count": 10,
     "metadata": {},
     "output_type": "execute_result"
    }
   ],
   "source": [
    "df_sub"
   ]
  }
 ],
 "metadata": {
  "kaggle": {
   "accelerator": "none",
   "dataSources": [
    {
     "databundleVersionId": 9094797,
     "sourceId": 63056,
     "sourceType": "competition"
    }
   ],
   "dockerImageVersionId": 30746,
   "isGpuEnabled": false,
   "isInternetEnabled": true,
   "language": "python",
   "sourceType": "notebook"
  },
  "kernelspec": {
   "display_name": "Python 3",
   "language": "python",
   "name": "python3"
  },
  "language_info": {
   "codemirror_mode": {
    "name": "ipython",
    "version": 3
   },
   "file_extension": ".py",
   "mimetype": "text/x-python",
   "name": "python",
   "nbconvert_exporter": "python",
   "pygments_lexer": "ipython3",
   "version": "3.10.13"
  },
  "papermill": {
   "default_parameters": {},
   "duration": 31.038564,
   "end_time": "2024-07-24T18:20:52.675790",
   "environment_variables": {},
   "exception": null,
   "input_path": "__notebook__.ipynb",
   "output_path": "__notebook__.ipynb",
   "parameters": {},
   "start_time": "2024-07-24T18:20:21.637226",
   "version": "2.5.0"
  }
 },
 "nbformat": 4,
 "nbformat_minor": 5
}
