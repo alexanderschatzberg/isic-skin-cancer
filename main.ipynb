{
 "cells": [
  {
   "cell_type": "code",
   "execution_count": 1,
   "id": "c698d426",
   "metadata": {
    "execution": {
     "iopub.execute_input": "2024-07-24T19:14:30.997599Z",
     "iopub.status.busy": "2024-07-24T19:14:30.997175Z",
     "iopub.status.idle": "2024-07-24T19:14:44.749987Z",
     "shell.execute_reply": "2024-07-24T19:14:44.748969Z"
    },
    "papermill": {
     "duration": 13.760791,
     "end_time": "2024-07-24T19:14:44.752707",
     "exception": false,
     "start_time": "2024-07-24T19:14:30.991916",
     "status": "completed"
    },
    "tags": []
   },
   "outputs": [
    {
     "name": "stderr",
     "output_type": "stream",
     "text": [
      "2024-07-24 19:14:33.879917: E external/local_xla/xla/stream_executor/cuda/cuda_dnn.cc:9261] Unable to register cuDNN factory: Attempting to register factory for plugin cuDNN when one has already been registered\n",
      "2024-07-24 19:14:33.880027: E external/local_xla/xla/stream_executor/cuda/cuda_fft.cc:607] Unable to register cuFFT factory: Attempting to register factory for plugin cuFFT when one has already been registered\n",
      "2024-07-24 19:14:34.034289: E external/local_xla/xla/stream_executor/cuda/cuda_blas.cc:1515] Unable to register cuBLAS factory: Attempting to register factory for plugin cuBLAS when one has already been registered\n"
     ]
    }
   ],
   "source": [
    "import pandas as pd\n",
    "import numpy as np\n",
    "from tensorflow import keras\n",
    "from keras import layers\n",
    "import matplotlib.pyplot as plt "
   ]
  },
  {
   "cell_type": "code",
   "execution_count": 2,
   "id": "46d8d8ab",
   "metadata": {
    "execution": {
     "iopub.execute_input": "2024-07-24T19:14:44.761980Z",
     "iopub.status.busy": "2024-07-24T19:14:44.761324Z",
     "iopub.status.idle": "2024-07-24T19:14:44.766272Z",
     "shell.execute_reply": "2024-07-24T19:14:44.765235Z"
    },
    "papermill": {
     "duration": 0.011888,
     "end_time": "2024-07-24T19:14:44.768476",
     "exception": false,
     "start_time": "2024-07-24T19:14:44.756588",
     "status": "completed"
    },
    "tags": []
   },
   "outputs": [],
   "source": [
    "# PATH = \"../kaggle/data/\"\n",
    "PATH = \"/kaggle/input/isic-2024-challenge/\"\n"
   ]
  },
  {
   "cell_type": "code",
   "execution_count": 3,
   "id": "c0db79cc",
   "metadata": {
    "execution": {
     "iopub.execute_input": "2024-07-24T19:14:44.776998Z",
     "iopub.status.busy": "2024-07-24T19:14:44.776599Z",
     "iopub.status.idle": "2024-07-24T19:14:52.248270Z",
     "shell.execute_reply": "2024-07-24T19:14:52.246807Z"
    },
    "papermill": {
     "duration": 7.478931,
     "end_time": "2024-07-24T19:14:52.250941",
     "exception": false,
     "start_time": "2024-07-24T19:14:44.772010",
     "status": "completed"
    },
    "tags": []
   },
   "outputs": [
    {
     "name": "stderr",
     "output_type": "stream",
     "text": [
      "/tmp/ipykernel_18/1877868789.py:1: DtypeWarning: Columns (51,52) have mixed types. Specify dtype option on import or set low_memory=False.\n",
      "  df_0 = pd.read_csv(PATH + \"train-metadata.csv\")\n"
     ]
    }
   ],
   "source": [
    "df_0 = pd.read_csv(PATH + \"train-metadata.csv\")"
   ]
  },
  {
   "cell_type": "code",
   "execution_count": 4,
   "id": "02af7e48",
   "metadata": {
    "execution": {
     "iopub.execute_input": "2024-07-24T19:14:52.262624Z",
     "iopub.status.busy": "2024-07-24T19:14:52.261820Z",
     "iopub.status.idle": "2024-07-24T19:14:52.575680Z",
     "shell.execute_reply": "2024-07-24T19:14:52.574660Z"
    },
    "papermill": {
     "duration": 0.322447,
     "end_time": "2024-07-24T19:14:52.578278",
     "exception": false,
     "start_time": "2024-07-24T19:14:52.255831",
     "status": "completed"
    },
    "tags": []
   },
   "outputs": [
    {
     "name": "stderr",
     "output_type": "stream",
     "text": [
      "/tmp/ipykernel_18/1864818803.py:5: FutureWarning: Downcasting behavior in `replace` is deprecated and will be removed in a future version. To retain the old behavior, explicitly call `result.infer_objects(copy=False)`. To opt-in to the future behavior, set `pd.set_option('future.no_silent_downcasting', True)`\n",
      "  df_0[\"sex\"] = df_0[\"sex\"].replace({\"male\": 1, \"female\": 0})\n"
     ]
    }
   ],
   "source": [
    "# Clean and preprocess data for training and testing \n",
    "\n",
    "cols_to_drop = [\"isic_id\", \"patient_id\", \"mel_thick_mm\", \"iddx_full\", \"iddx_1\", \"iddx_2\", \"iddx_3\", \"iddx_4\", \"iddx_5\", \"attribution\", \"copyright_license\", \"tbp_lv_location\", \"tbp_lv_location_simple\", \"tbp_lv_dnn_lesion_confidence\", \"anatom_site_general\", \"image_type\", \"tbp_tile_type\"]\n",
    "df_0.drop(columns=cols_to_drop, inplace=True)\n",
    "df_0[\"sex\"] = df_0[\"sex\"].replace({\"male\": 1, \"female\": 0})\n",
    "\n",
    "# replace all NaNs with np.nan\n",
    "df_0.replace(\"\", np.nan, inplace=True)\n",
    "\n",
    "# Drop any row with a NaN value\n",
    "df_0.dropna(inplace=True)\n",
    "\n",
    "# Drop any column with a string vallue \n",
    "for col in df_0.columns:\n",
    "    if df_0[col].dtype == \"object\":\n",
    "        df_0.drop(columns=[col], inplace=True)\n",
    "\n",
    "# clean up for training, split into train and test\n",
    "train_frac = 0.8 \n",
    "train_size = int(train_frac * len(df_0))\n",
    "\n",
    "train = df_0[:train_size]\n",
    "x_train = df_0.drop(columns=[\"target\"])\n",
    "y_train = df_0[\"target\"]\n",
    "\n",
    "test = df_0[train_size:]\n",
    "x_test = df_0.drop(columns=[\"target\"])\n",
    "y_test = df_0[\"target\"]"
   ]
  },
  {
   "cell_type": "code",
   "execution_count": 5,
   "id": "b6212f90",
   "metadata": {
    "execution": {
     "iopub.execute_input": "2024-07-24T19:14:52.586394Z",
     "iopub.status.busy": "2024-07-24T19:14:52.586049Z",
     "iopub.status.idle": "2024-07-24T19:14:52.689397Z",
     "shell.execute_reply": "2024-07-24T19:14:52.688323Z"
    },
    "papermill": {
     "duration": 0.110044,
     "end_time": "2024-07-24T19:14:52.691754",
     "exception": false,
     "start_time": "2024-07-24T19:14:52.581710",
     "status": "completed"
    },
    "tags": []
   },
   "outputs": [],
   "source": [
    "# Define the NN \n",
    "inputs = keras.Input(shape=(len(x_train.keys()),)) # One input for each feature in the dataset \n",
    "\n",
    "# Add two hidden layers with 64 units each and ReLU activation\n",
    "x = layers.Dense(64, activation=\"relu\")(inputs)\n",
    "x = layers.Dense(64, activation=\"relu\")(x)\n",
    "\n",
    "# Define the output layer with a single unit and sigmoid activation\n",
    "outputs = layers.Dense(1, activation=\"sigmoid\")(x)\n",
    "\n",
    "model = keras.Model(inputs=inputs, outputs=outputs, name=\"isic-v0\")\n"
   ]
  },
  {
   "cell_type": "code",
   "execution_count": 6,
   "id": "af3501ce",
   "metadata": {
    "execution": {
     "iopub.execute_input": "2024-07-24T19:14:52.700412Z",
     "iopub.status.busy": "2024-07-24T19:14:52.700031Z",
     "iopub.status.idle": "2024-07-24T19:14:54.676860Z",
     "shell.execute_reply": "2024-07-24T19:14:54.675453Z"
    },
    "papermill": {
     "duration": 1.983841,
     "end_time": "2024-07-24T19:14:54.679164",
     "exception": false,
     "start_time": "2024-07-24T19:14:52.695323",
     "status": "completed"
    },
    "tags": []
   },
   "outputs": [
    {
     "name": "stdout",
     "output_type": "stream",
     "text": [
      "Epoch 1/10\n"
     ]
    },
    {
     "name": "stderr",
     "output_type": "stream",
     "text": [
      "/opt/conda/lib/python3.10/site-packages/keras/src/backend/tensorflow/nn.py:681: UserWarning: \"`binary_crossentropy` received `from_logits=True`, but the `output` argument was produced by a Sigmoid activation and thus does not represent logits. Was this intended?\n",
      "  output, from_logits = _get_logits(\n"
     ]
    },
    {
     "name": "stdout",
     "output_type": "stream",
     "text": [
      "\u001b[1m1/1\u001b[0m \u001b[32m━━━━━━━━━━━━━━━━━━━━\u001b[0m\u001b[37m\u001b[0m \u001b[1m1s\u001b[0m 1s/step - binary_accuracy: 0.0000e+00 - loss: 222.7352 - val_binary_accuracy: 0.0000e+00 - val_loss: 131.9597\n",
      "Epoch 2/10\n",
      "\u001b[1m1/1\u001b[0m \u001b[32m━━━━━━━━━━━━━━━━━━━━\u001b[0m\u001b[37m\u001b[0m \u001b[1m0s\u001b[0m 51ms/step - binary_accuracy: 0.0244 - loss: 137.7678 - val_binary_accuracy: 0.0000e+00 - val_loss: 77.0411\n",
      "Epoch 3/10\n",
      "\u001b[1m1/1\u001b[0m \u001b[32m━━━━━━━━━━━━━━━━━━━━\u001b[0m\u001b[37m\u001b[0m \u001b[1m0s\u001b[0m 23ms/step - binary_accuracy: 0.1220 - loss: 78.8340"
     ]
    },
    {
     "name": "stderr",
     "output_type": "stream",
     "text": [
      "/opt/conda/lib/python3.10/site-packages/keras/src/backend/tensorflow/nn.py:681: UserWarning: \"`binary_crossentropy` received `from_logits=True`, but the `output` argument was produced by a Sigmoid activation and thus does not represent logits. Was this intended?\n",
      "  output, from_logits = _get_logits(\n"
     ]
    },
    {
     "name": "stdout",
     "output_type": "stream",
     "text": [
      "\u001b[1m1/1\u001b[0m \u001b[32m━━━━━━━━━━━━━━━━━━━━\u001b[0m\u001b[37m\u001b[0m \u001b[1m0s\u001b[0m 70ms/step - binary_accuracy: 0.1220 - loss: 78.8340 - val_binary_accuracy: 0.2727 - val_loss: 33.5996\n",
      "Epoch 4/10\n",
      "\u001b[1m1/1\u001b[0m \u001b[32m━━━━━━━━━━━━━━━━━━━━\u001b[0m\u001b[37m\u001b[0m \u001b[1m0s\u001b[0m 54ms/step - binary_accuracy: 0.2927 - loss: 29.9435 - val_binary_accuracy: 0.7273 - val_loss: 4.1570\n",
      "Epoch 5/10\n",
      "\u001b[1m1/1\u001b[0m \u001b[32m━━━━━━━━━━━━━━━━━━━━\u001b[0m\u001b[37m\u001b[0m \u001b[1m0s\u001b[0m 49ms/step - binary_accuracy: 0.8049 - loss: 2.2627 - val_binary_accuracy: 0.9091 - val_loss: 0.9760\n",
      "Epoch 6/10\n",
      "\u001b[1m1/1\u001b[0m \u001b[32m━━━━━━━━━━━━━━━━━━━━\u001b[0m\u001b[37m\u001b[0m \u001b[1m0s\u001b[0m 51ms/step - binary_accuracy: 0.9756 - loss: 0.5045 - val_binary_accuracy: 0.9091 - val_loss: 0.5836\n",
      "Epoch 7/10\n",
      "\u001b[1m1/1\u001b[0m \u001b[32m━━━━━━━━━━━━━━━━━━━━\u001b[0m\u001b[37m\u001b[0m \u001b[1m0s\u001b[0m 52ms/step - binary_accuracy: 0.9756 - loss: 0.3795 - val_binary_accuracy: 0.9091 - val_loss: 0.1840\n",
      "Epoch 8/10\n",
      "\u001b[1m1/1\u001b[0m \u001b[32m━━━━━━━━━━━━━━━━━━━━\u001b[0m\u001b[37m\u001b[0m \u001b[1m0s\u001b[0m 50ms/step - binary_accuracy: 0.9756 - loss: 0.2481 - val_binary_accuracy: 1.0000 - val_loss: 0.0049\n",
      "Epoch 9/10\n",
      "\u001b[1m1/1\u001b[0m \u001b[32m━━━━━━━━━━━━━━━━━━━━\u001b[0m\u001b[37m\u001b[0m \u001b[1m0s\u001b[0m 49ms/step - binary_accuracy: 0.9756 - loss: 0.1102 - val_binary_accuracy: 1.0000 - val_loss: 3.5778e-05\n",
      "Epoch 10/10\n",
      "\u001b[1m1/1\u001b[0m \u001b[32m━━━━━━━━━━━━━━━━━━━━\u001b[0m\u001b[37m\u001b[0m \u001b[1m0s\u001b[0m 49ms/step - binary_accuracy: 1.0000 - loss: 0.0055 - val_binary_accuracy: 1.0000 - val_loss: 1.2361e-05\n",
      "2/2 - 0s - 12ms/step - binary_accuracy: 1.0000 - loss: 0.0013\n",
      "Test loss: 0.0013194131897762418\n",
      "Test accuracy: 1.0\n"
     ]
    }
   ],
   "source": [
    "model.compile(\n",
    "    loss=keras.losses.BinaryCrossentropy(from_logits=True),\n",
    "    optimizer=keras.optimizers.RMSprop(),\n",
    "    metrics=[keras.metrics.BinaryAccuracy()],\n",
    ")\n",
    "\n",
    "history = model.fit(x_train, y_train, batch_size=512, epochs=10, validation_split=0.2)\n",
    "\n",
    "test_scores = model.evaluate(x_test, y_test, verbose=2)\n",
    "print(\"Test loss:\", test_scores[0])\n",
    "print(\"Test accuracy:\", test_scores[1])"
   ]
  },
  {
   "cell_type": "code",
   "execution_count": 7,
   "id": "89c10c2a",
   "metadata": {
    "execution": {
     "iopub.execute_input": "2024-07-24T19:14:54.692698Z",
     "iopub.status.busy": "2024-07-24T19:14:54.692339Z",
     "iopub.status.idle": "2024-07-24T19:14:54.721301Z",
     "shell.execute_reply": "2024-07-24T19:14:54.720195Z"
    },
    "papermill": {
     "duration": 0.038819,
     "end_time": "2024-07-24T19:14:54.723904",
     "exception": false,
     "start_time": "2024-07-24T19:14:54.685085",
     "status": "completed"
    },
    "tags": []
   },
   "outputs": [
    {
     "name": "stderr",
     "output_type": "stream",
     "text": [
      "/tmp/ipykernel_18/554657857.py:10: FutureWarning: Downcasting behavior in `replace` is deprecated and will be removed in a future version. To retain the old behavior, explicitly call `result.infer_objects(copy=False)`. To opt-in to the future behavior, set `pd.set_option('future.no_silent_downcasting', True)`\n",
      "  test_df[\"sex\"] = test_df[\"sex\"].replace({\"male\": 1, \"female\": 0})\n"
     ]
    }
   ],
   "source": [
    "test_df = pd.read_csv(PATH + \"test-metadata.csv\")\n",
    "isic_ids = test_df[\"isic_id\"]\n",
    "\n",
    "try: \n",
    "    test_df.drop(columns=cols_to_drop, inplace=True)\n",
    "except KeyError: \n",
    "    pass\n",
    "\n",
    "test_df.replace(\"\", np.nan, inplace=True)\n",
    "test_df[\"sex\"] = test_df[\"sex\"].replace({\"male\": 1, \"female\": 0})\n",
    "test_df.dropna(inplace=True)\n",
    "\n",
    "# Drop any column with a string vallue \n",
    "for col in test_df.columns:\n",
    "    if test_df[col].dtype == \"object\":\n",
    "        test_df.drop(columns=[col], inplace=True)"
   ]
  },
  {
   "cell_type": "code",
   "execution_count": 8,
   "id": "1536e3b2",
   "metadata": {
    "execution": {
     "iopub.execute_input": "2024-07-24T19:14:54.737408Z",
     "iopub.status.busy": "2024-07-24T19:14:54.737028Z",
     "iopub.status.idle": "2024-07-24T19:14:54.742629Z",
     "shell.execute_reply": "2024-07-24T19:14:54.741625Z"
    },
    "papermill": {
     "duration": 0.014829,
     "end_time": "2024-07-24T19:14:54.744760",
     "exception": false,
     "start_time": "2024-07-24T19:14:54.729931",
     "status": "completed"
    },
    "tags": []
   },
   "outputs": [
    {
     "name": "stdout",
     "output_type": "stream",
     "text": [
      "35 35\n"
     ]
    }
   ],
   "source": [
    "print(len(test_df.keys()), len(x_train.keys()))"
   ]
  },
  {
   "cell_type": "code",
   "execution_count": 9,
   "id": "c9c739ef",
   "metadata": {
    "execution": {
     "iopub.execute_input": "2024-07-24T19:14:54.757961Z",
     "iopub.status.busy": "2024-07-24T19:14:54.757571Z",
     "iopub.status.idle": "2024-07-24T19:14:54.868829Z",
     "shell.execute_reply": "2024-07-24T19:14:54.867969Z"
    },
    "papermill": {
     "duration": 0.120687,
     "end_time": "2024-07-24T19:14:54.871306",
     "exception": false,
     "start_time": "2024-07-24T19:14:54.750619",
     "status": "completed"
    },
    "tags": []
   },
   "outputs": [
    {
     "name": "stdout",
     "output_type": "stream",
     "text": [
      "\u001b[1m1/1\u001b[0m \u001b[32m━━━━━━━━━━━━━━━━━━━━\u001b[0m\u001b[37m\u001b[0m \u001b[1m0s\u001b[0m 53ms/step\n"
     ]
    }
   ],
   "source": [
    "preds = model.predict(test_df)\n",
    "\n",
    "df_sub = pd.DataFrame({\"isic_id\": isic_ids, \"target\": preds[:,0]})\n",
    "df_sub.to_csv(\"submission.csv\", index=False)\n"
   ]
  },
  {
   "cell_type": "code",
   "execution_count": 10,
   "id": "edbbfbeb",
   "metadata": {
    "execution": {
     "iopub.execute_input": "2024-07-24T19:14:54.885475Z",
     "iopub.status.busy": "2024-07-24T19:14:54.884857Z",
     "iopub.status.idle": "2024-07-24T19:14:54.899076Z",
     "shell.execute_reply": "2024-07-24T19:14:54.898019Z"
    },
    "papermill": {
     "duration": 0.023746,
     "end_time": "2024-07-24T19:14:54.901280",
     "exception": false,
     "start_time": "2024-07-24T19:14:54.877534",
     "status": "completed"
    },
    "tags": []
   },
   "outputs": [
    {
     "data": {
      "text/html": [
       "<div>\n",
       "<style scoped>\n",
       "    .dataframe tbody tr th:only-of-type {\n",
       "        vertical-align: middle;\n",
       "    }\n",
       "\n",
       "    .dataframe tbody tr th {\n",
       "        vertical-align: top;\n",
       "    }\n",
       "\n",
       "    .dataframe thead th {\n",
       "        text-align: right;\n",
       "    }\n",
       "</style>\n",
       "<table border=\"1\" class=\"dataframe\">\n",
       "  <thead>\n",
       "    <tr style=\"text-align: right;\">\n",
       "      <th></th>\n",
       "      <th>isic_id</th>\n",
       "      <th>target</th>\n",
       "    </tr>\n",
       "  </thead>\n",
       "  <tbody>\n",
       "    <tr>\n",
       "      <th>0</th>\n",
       "      <td>ISIC_0015657</td>\n",
       "      <td>1.0</td>\n",
       "    </tr>\n",
       "    <tr>\n",
       "      <th>1</th>\n",
       "      <td>ISIC_0015729</td>\n",
       "      <td>1.0</td>\n",
       "    </tr>\n",
       "    <tr>\n",
       "      <th>2</th>\n",
       "      <td>ISIC_0015740</td>\n",
       "      <td>1.0</td>\n",
       "    </tr>\n",
       "  </tbody>\n",
       "</table>\n",
       "</div>"
      ],
      "text/plain": [
       "        isic_id  target\n",
       "0  ISIC_0015657     1.0\n",
       "1  ISIC_0015729     1.0\n",
       "2  ISIC_0015740     1.0"
      ]
     },
     "execution_count": 10,
     "metadata": {},
     "output_type": "execute_result"
    }
   ],
   "source": [
    "df_sub"
   ]
  }
 ],
 "metadata": {
  "kaggle": {
   "accelerator": "none",
   "dataSources": [
    {
     "databundleVersionId": 9094797,
     "sourceId": 63056,
     "sourceType": "competition"
    }
   ],
   "dockerImageVersionId": 30746,
   "isGpuEnabled": false,
   "isInternetEnabled": false,
   "language": "python",
   "sourceType": "notebook"
  },
  "kernelspec": {
   "display_name": "Python 3",
   "language": "python",
   "name": "python3"
  },
  "language_info": {
   "codemirror_mode": {
    "name": "ipython",
    "version": 3
   },
   "file_extension": ".py",
   "mimetype": "text/x-python",
   "name": "python",
   "nbconvert_exporter": "python",
   "pygments_lexer": "ipython3",
   "version": "3.10.13"
  },
  "papermill": {
   "default_parameters": {},
   "duration": 28.046162,
   "end_time": "2024-07-24T19:14:56.331435",
   "environment_variables": {},
   "exception": null,
   "input_path": "__notebook__.ipynb",
   "output_path": "__notebook__.ipynb",
   "parameters": {},
   "start_time": "2024-07-24T19:14:28.285273",
   "version": "2.5.0"
  }
 },
 "nbformat": 4,
 "nbformat_minor": 5
}
